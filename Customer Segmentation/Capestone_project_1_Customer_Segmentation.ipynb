{
 "cells": [
  {
   "cell_type": "markdown",
   "id": "20ea27ad",
   "metadata": {},
   "source": [
    "# Customer Segmentation"
   ]
  },
  {
   "cell_type": "markdown",
   "id": "f8b16cef",
   "metadata": {},
   "source": [
    "## Objective : To increase marketing efficiency by exploring the Retail Store Data and coming up with insights to build a data driven business strategies"
   ]
  },
  {
   "cell_type": "markdown",
   "id": "75a308d7",
   "metadata": {},
   "source": [
    "## Motivation: Current company, understanding the problem statement of customers, segementing accordingly, what should be done to retain customers."
   ]
  },
  {
   "cell_type": "markdown",
   "id": "1edf3f5f",
   "metadata": {},
   "source": [
    "## Approach:\n",
    "#### 1. Data quality check\n",
    "#### 2. Data cleaning\n",
    "#### 3. EDA  such as order count, best selling period, revenue per month(line plot), orders per month(line plot), etc\n",
    "#### 4. Studying a new \"RFM-Metric\" metric and building the same to segment customers. In RFM-Metric,\"R\" stands for Recency, \"F\" for Frequency and \"M' for Monetary. I've used Quantiles to segment them accordingly.\n",
    "#### 5. Model Building (K-Means Clustering model) findling the best value for k using \"Elbow-Method\"\n"
   ]
  },
  {
   "cell_type": "code",
   "execution_count": 1,
   "id": "d2d70385",
   "metadata": {},
   "outputs": [],
   "source": [
    "import pandas as pd \n",
    "import numpy as np"
   ]
  },
  {
   "cell_type": "code",
   "execution_count": 2,
   "id": "fb0f37ac",
   "metadata": {},
   "outputs": [],
   "source": [
    "file_path ='D:/Imarticus/Sreemanto Sir/Data_sets/'\n",
    "file_name = 'Online Retail.xlsx'\n",
    "\n",
    "df=pd.read_excel(file_path+file_name)"
   ]
  },
  {
   "cell_type": "code",
   "execution_count": 3,
   "id": "fa1c86bd",
   "metadata": {},
   "outputs": [
    {
     "data": {
      "text/plain": [
       "InvoiceNo           0\n",
       "StockCode           0\n",
       "Description      1454\n",
       "Quantity            0\n",
       "InvoiceDate         0\n",
       "UnitPrice           0\n",
       "CustomerID     135080\n",
       "Country             0\n",
       "dtype: int64"
      ]
     },
     "execution_count": 3,
     "metadata": {},
     "output_type": "execute_result"
    }
   ],
   "source": [
    "df.isnull().sum()"
   ]
  },
  {
   "cell_type": "code",
   "execution_count": 4,
   "id": "6e630b02",
   "metadata": {},
   "outputs": [
    {
     "data": {
      "text/html": [
       "<div>\n",
       "<style scoped>\n",
       "    .dataframe tbody tr th:only-of-type {\n",
       "        vertical-align: middle;\n",
       "    }\n",
       "\n",
       "    .dataframe tbody tr th {\n",
       "        vertical-align: top;\n",
       "    }\n",
       "\n",
       "    .dataframe thead th {\n",
       "        text-align: right;\n",
       "    }\n",
       "</style>\n",
       "<table border=\"1\" class=\"dataframe\">\n",
       "  <thead>\n",
       "    <tr style=\"text-align: right;\">\n",
       "      <th></th>\n",
       "      <th>InvoiceNo</th>\n",
       "      <th>StockCode</th>\n",
       "      <th>Description</th>\n",
       "      <th>Quantity</th>\n",
       "      <th>InvoiceDate</th>\n",
       "      <th>UnitPrice</th>\n",
       "      <th>CustomerID</th>\n",
       "      <th>Country</th>\n",
       "    </tr>\n",
       "  </thead>\n",
       "  <tbody>\n",
       "    <tr>\n",
       "      <th>622</th>\n",
       "      <td>536414</td>\n",
       "      <td>22139</td>\n",
       "      <td>NaN</td>\n",
       "      <td>56</td>\n",
       "      <td>2010-12-01 11:52:00</td>\n",
       "      <td>0.00</td>\n",
       "      <td>NaN</td>\n",
       "      <td>United Kingdom</td>\n",
       "    </tr>\n",
       "    <tr>\n",
       "      <th>1443</th>\n",
       "      <td>536544</td>\n",
       "      <td>21773</td>\n",
       "      <td>DECORATIVE ROSE BATHROOM BOTTLE</td>\n",
       "      <td>1</td>\n",
       "      <td>2010-12-01 14:32:00</td>\n",
       "      <td>2.51</td>\n",
       "      <td>NaN</td>\n",
       "      <td>United Kingdom</td>\n",
       "    </tr>\n",
       "    <tr>\n",
       "      <th>1444</th>\n",
       "      <td>536544</td>\n",
       "      <td>21774</td>\n",
       "      <td>DECORATIVE CATS BATHROOM BOTTLE</td>\n",
       "      <td>2</td>\n",
       "      <td>2010-12-01 14:32:00</td>\n",
       "      <td>2.51</td>\n",
       "      <td>NaN</td>\n",
       "      <td>United Kingdom</td>\n",
       "    </tr>\n",
       "    <tr>\n",
       "      <th>1445</th>\n",
       "      <td>536544</td>\n",
       "      <td>21786</td>\n",
       "      <td>POLKADOT RAIN HAT</td>\n",
       "      <td>4</td>\n",
       "      <td>2010-12-01 14:32:00</td>\n",
       "      <td>0.85</td>\n",
       "      <td>NaN</td>\n",
       "      <td>United Kingdom</td>\n",
       "    </tr>\n",
       "    <tr>\n",
       "      <th>1446</th>\n",
       "      <td>536544</td>\n",
       "      <td>21787</td>\n",
       "      <td>RAIN PONCHO RETROSPOT</td>\n",
       "      <td>2</td>\n",
       "      <td>2010-12-01 14:32:00</td>\n",
       "      <td>1.66</td>\n",
       "      <td>NaN</td>\n",
       "      <td>United Kingdom</td>\n",
       "    </tr>\n",
       "    <tr>\n",
       "      <th>...</th>\n",
       "      <td>...</td>\n",
       "      <td>...</td>\n",
       "      <td>...</td>\n",
       "      <td>...</td>\n",
       "      <td>...</td>\n",
       "      <td>...</td>\n",
       "      <td>...</td>\n",
       "      <td>...</td>\n",
       "    </tr>\n",
       "    <tr>\n",
       "      <th>541536</th>\n",
       "      <td>581498</td>\n",
       "      <td>85099B</td>\n",
       "      <td>JUMBO BAG RED RETROSPOT</td>\n",
       "      <td>5</td>\n",
       "      <td>2011-12-09 10:26:00</td>\n",
       "      <td>4.13</td>\n",
       "      <td>NaN</td>\n",
       "      <td>United Kingdom</td>\n",
       "    </tr>\n",
       "    <tr>\n",
       "      <th>541537</th>\n",
       "      <td>581498</td>\n",
       "      <td>85099C</td>\n",
       "      <td>JUMBO  BAG BAROQUE BLACK WHITE</td>\n",
       "      <td>4</td>\n",
       "      <td>2011-12-09 10:26:00</td>\n",
       "      <td>4.13</td>\n",
       "      <td>NaN</td>\n",
       "      <td>United Kingdom</td>\n",
       "    </tr>\n",
       "    <tr>\n",
       "      <th>541538</th>\n",
       "      <td>581498</td>\n",
       "      <td>85150</td>\n",
       "      <td>LADIES &amp; GENTLEMEN METAL SIGN</td>\n",
       "      <td>1</td>\n",
       "      <td>2011-12-09 10:26:00</td>\n",
       "      <td>4.96</td>\n",
       "      <td>NaN</td>\n",
       "      <td>United Kingdom</td>\n",
       "    </tr>\n",
       "    <tr>\n",
       "      <th>541539</th>\n",
       "      <td>581498</td>\n",
       "      <td>85174</td>\n",
       "      <td>S/4 CACTI CANDLES</td>\n",
       "      <td>1</td>\n",
       "      <td>2011-12-09 10:26:00</td>\n",
       "      <td>10.79</td>\n",
       "      <td>NaN</td>\n",
       "      <td>United Kingdom</td>\n",
       "    </tr>\n",
       "    <tr>\n",
       "      <th>541540</th>\n",
       "      <td>581498</td>\n",
       "      <td>DOT</td>\n",
       "      <td>DOTCOM POSTAGE</td>\n",
       "      <td>1</td>\n",
       "      <td>2011-12-09 10:26:00</td>\n",
       "      <td>1714.17</td>\n",
       "      <td>NaN</td>\n",
       "      <td>United Kingdom</td>\n",
       "    </tr>\n",
       "  </tbody>\n",
       "</table>\n",
       "<p>135080 rows × 8 columns</p>\n",
       "</div>"
      ],
      "text/plain": [
       "       InvoiceNo StockCode                      Description  Quantity  \\\n",
       "622       536414     22139                              NaN        56   \n",
       "1443      536544     21773  DECORATIVE ROSE BATHROOM BOTTLE         1   \n",
       "1444      536544     21774  DECORATIVE CATS BATHROOM BOTTLE         2   \n",
       "1445      536544     21786               POLKADOT RAIN HAT          4   \n",
       "1446      536544     21787            RAIN PONCHO RETROSPOT         2   \n",
       "...          ...       ...                              ...       ...   \n",
       "541536    581498    85099B          JUMBO BAG RED RETROSPOT         5   \n",
       "541537    581498    85099C   JUMBO  BAG BAROQUE BLACK WHITE         4   \n",
       "541538    581498     85150    LADIES & GENTLEMEN METAL SIGN         1   \n",
       "541539    581498     85174                S/4 CACTI CANDLES         1   \n",
       "541540    581498       DOT                   DOTCOM POSTAGE         1   \n",
       "\n",
       "               InvoiceDate  UnitPrice  CustomerID         Country  \n",
       "622    2010-12-01 11:52:00       0.00         NaN  United Kingdom  \n",
       "1443   2010-12-01 14:32:00       2.51         NaN  United Kingdom  \n",
       "1444   2010-12-01 14:32:00       2.51         NaN  United Kingdom  \n",
       "1445   2010-12-01 14:32:00       0.85         NaN  United Kingdom  \n",
       "1446   2010-12-01 14:32:00       1.66         NaN  United Kingdom  \n",
       "...                    ...        ...         ...             ...  \n",
       "541536 2011-12-09 10:26:00       4.13         NaN  United Kingdom  \n",
       "541537 2011-12-09 10:26:00       4.13         NaN  United Kingdom  \n",
       "541538 2011-12-09 10:26:00       4.96         NaN  United Kingdom  \n",
       "541539 2011-12-09 10:26:00      10.79         NaN  United Kingdom  \n",
       "541540 2011-12-09 10:26:00    1714.17         NaN  United Kingdom  \n",
       "\n",
       "[135080 rows x 8 columns]"
      ]
     },
     "execution_count": 4,
     "metadata": {},
     "output_type": "execute_result"
    }
   ],
   "source": [
    "#investigating the Null Customers Id \n",
    "df[df['CustomerID'].isnull()]"
   ]
  },
  {
   "cell_type": "code",
   "execution_count": 5,
   "id": "063ce1d2",
   "metadata": {},
   "outputs": [
    {
     "data": {
      "text/html": [
       "<div>\n",
       "<style scoped>\n",
       "    .dataframe tbody tr th:only-of-type {\n",
       "        vertical-align: middle;\n",
       "    }\n",
       "\n",
       "    .dataframe tbody tr th {\n",
       "        vertical-align: top;\n",
       "    }\n",
       "\n",
       "    .dataframe thead th {\n",
       "        text-align: right;\n",
       "    }\n",
       "</style>\n",
       "<table border=\"1\" class=\"dataframe\">\n",
       "  <thead>\n",
       "    <tr style=\"text-align: right;\">\n",
       "      <th></th>\n",
       "      <th>InvoiceNo</th>\n",
       "      <th>StockCode</th>\n",
       "      <th>Description</th>\n",
       "      <th>Quantity</th>\n",
       "      <th>InvoiceDate</th>\n",
       "      <th>UnitPrice</th>\n",
       "      <th>CustomerID</th>\n",
       "      <th>Country</th>\n",
       "    </tr>\n",
       "  </thead>\n",
       "  <tbody>\n",
       "    <tr>\n",
       "      <th>225530</th>\n",
       "      <td>556691</td>\n",
       "      <td>23005</td>\n",
       "      <td>printing smudges/thrown away</td>\n",
       "      <td>-9600</td>\n",
       "      <td>2011-06-14 10:37:00</td>\n",
       "      <td>0.0</td>\n",
       "      <td>NaN</td>\n",
       "      <td>United Kingdom</td>\n",
       "    </tr>\n",
       "    <tr>\n",
       "      <th>225529</th>\n",
       "      <td>556690</td>\n",
       "      <td>23005</td>\n",
       "      <td>printing smudges/thrown away</td>\n",
       "      <td>-9600</td>\n",
       "      <td>2011-06-14 10:37:00</td>\n",
       "      <td>0.0</td>\n",
       "      <td>NaN</td>\n",
       "      <td>United Kingdom</td>\n",
       "    </tr>\n",
       "    <tr>\n",
       "      <th>225528</th>\n",
       "      <td>556687</td>\n",
       "      <td>23003</td>\n",
       "      <td>Printing smudges/thrown away</td>\n",
       "      <td>-9058</td>\n",
       "      <td>2011-06-14 10:36:00</td>\n",
       "      <td>0.0</td>\n",
       "      <td>NaN</td>\n",
       "      <td>United Kingdom</td>\n",
       "    </tr>\n",
       "    <tr>\n",
       "      <th>115818</th>\n",
       "      <td>546152</td>\n",
       "      <td>72140F</td>\n",
       "      <td>throw away</td>\n",
       "      <td>-5368</td>\n",
       "      <td>2011-03-09 17:25:00</td>\n",
       "      <td>0.0</td>\n",
       "      <td>NaN</td>\n",
       "      <td>United Kingdom</td>\n",
       "    </tr>\n",
       "    <tr>\n",
       "      <th>431381</th>\n",
       "      <td>573596</td>\n",
       "      <td>79323W</td>\n",
       "      <td>Unsaleable, destroyed.</td>\n",
       "      <td>-4830</td>\n",
       "      <td>2011-10-31 15:17:00</td>\n",
       "      <td>0.0</td>\n",
       "      <td>NaN</td>\n",
       "      <td>United Kingdom</td>\n",
       "    </tr>\n",
       "    <tr>\n",
       "      <th>...</th>\n",
       "      <td>...</td>\n",
       "      <td>...</td>\n",
       "      <td>...</td>\n",
       "      <td>...</td>\n",
       "      <td>...</td>\n",
       "      <td>...</td>\n",
       "      <td>...</td>\n",
       "      <td>...</td>\n",
       "    </tr>\n",
       "    <tr>\n",
       "      <th>74615</th>\n",
       "      <td>542505</td>\n",
       "      <td>79063D</td>\n",
       "      <td>NaN</td>\n",
       "      <td>2560</td>\n",
       "      <td>2011-01-28 12:04:00</td>\n",
       "      <td>0.0</td>\n",
       "      <td>NaN</td>\n",
       "      <td>United Kingdom</td>\n",
       "    </tr>\n",
       "    <tr>\n",
       "      <th>115807</th>\n",
       "      <td>546139</td>\n",
       "      <td>84988</td>\n",
       "      <td>?</td>\n",
       "      <td>3000</td>\n",
       "      <td>2011-03-09 16:35:00</td>\n",
       "      <td>0.0</td>\n",
       "      <td>NaN</td>\n",
       "      <td>United Kingdom</td>\n",
       "    </tr>\n",
       "    <tr>\n",
       "      <th>263885</th>\n",
       "      <td>560040</td>\n",
       "      <td>23343</td>\n",
       "      <td>came coded as 20713</td>\n",
       "      <td>3100</td>\n",
       "      <td>2011-07-14 14:28:00</td>\n",
       "      <td>0.0</td>\n",
       "      <td>NaN</td>\n",
       "      <td>United Kingdom</td>\n",
       "    </tr>\n",
       "    <tr>\n",
       "      <th>220843</th>\n",
       "      <td>556231</td>\n",
       "      <td>85123A</td>\n",
       "      <td>?</td>\n",
       "      <td>4000</td>\n",
       "      <td>2011-06-09 15:04:00</td>\n",
       "      <td>0.0</td>\n",
       "      <td>NaN</td>\n",
       "      <td>United Kingdom</td>\n",
       "    </tr>\n",
       "    <tr>\n",
       "      <th>74614</th>\n",
       "      <td>542504</td>\n",
       "      <td>37413</td>\n",
       "      <td>NaN</td>\n",
       "      <td>5568</td>\n",
       "      <td>2011-01-28 12:03:00</td>\n",
       "      <td>0.0</td>\n",
       "      <td>NaN</td>\n",
       "      <td>United Kingdom</td>\n",
       "    </tr>\n",
       "  </tbody>\n",
       "</table>\n",
       "<p>135080 rows × 8 columns</p>\n",
       "</div>"
      ],
      "text/plain": [
       "       InvoiceNo StockCode                   Description  Quantity  \\\n",
       "225530    556691     23005  printing smudges/thrown away     -9600   \n",
       "225529    556690     23005  printing smudges/thrown away     -9600   \n",
       "225528    556687     23003  Printing smudges/thrown away     -9058   \n",
       "115818    546152    72140F                    throw away     -5368   \n",
       "431381    573596    79323W        Unsaleable, destroyed.     -4830   \n",
       "...          ...       ...                           ...       ...   \n",
       "74615     542505    79063D                           NaN      2560   \n",
       "115807    546139     84988                             ?      3000   \n",
       "263885    560040     23343           came coded as 20713      3100   \n",
       "220843    556231    85123A                             ?      4000   \n",
       "74614     542504     37413                           NaN      5568   \n",
       "\n",
       "               InvoiceDate  UnitPrice  CustomerID         Country  \n",
       "225530 2011-06-14 10:37:00        0.0         NaN  United Kingdom  \n",
       "225529 2011-06-14 10:37:00        0.0         NaN  United Kingdom  \n",
       "225528 2011-06-14 10:36:00        0.0         NaN  United Kingdom  \n",
       "115818 2011-03-09 17:25:00        0.0         NaN  United Kingdom  \n",
       "431381 2011-10-31 15:17:00        0.0         NaN  United Kingdom  \n",
       "...                    ...        ...         ...             ...  \n",
       "74615  2011-01-28 12:04:00        0.0         NaN  United Kingdom  \n",
       "115807 2011-03-09 16:35:00        0.0         NaN  United Kingdom  \n",
       "263885 2011-07-14 14:28:00        0.0         NaN  United Kingdom  \n",
       "220843 2011-06-09 15:04:00        0.0         NaN  United Kingdom  \n",
       "74614  2011-01-28 12:03:00        0.0         NaN  United Kingdom  \n",
       "\n",
       "[135080 rows x 8 columns]"
      ]
     },
     "execution_count": 5,
     "metadata": {},
     "output_type": "execute_result"
    }
   ],
   "source": [
    "#Sorting by quantity \n",
    "df[df['CustomerID'].isnull()].sort_values(by='Quantity')"
   ]
  },
  {
   "cell_type": "markdown",
   "id": "118ac514",
   "metadata": {},
   "source": [
    "As the sorting result displays -ve values in quantity which indicates that this might be return orders\n",
    "\n",
    "Not necessary that return can only be applicable where CustomerId is null so now we have two aspect to check -ve value where id is null as well as where it is not null."
   ]
  },
  {
   "cell_type": "markdown",
   "id": "5172b47f",
   "metadata": {},
   "source": [
    "#### Lets find out the return orders where the customer_id is null "
   ]
  },
  {
   "cell_type": "code",
   "execution_count": 6,
   "id": "f55e07ae",
   "metadata": {},
   "outputs": [
    {
     "name": "stdout",
     "output_type": "stream",
     "text": [
      "Total return orders where the customer_id is null =  1518\n"
     ]
    }
   ],
   "source": [
    "null_customers_df = df[df['CustomerID'].isnull()]\n",
    "null_id_orders = null_customers_df[null_customers_df[\"Quantity\"]<0].InvoiceNo.nunique()\n",
    "print(\"Total return orders where the customer_id is null = \",null_id_orders)"
   ]
  },
  {
   "cell_type": "markdown",
   "id": "2f556701",
   "metadata": {},
   "source": [
    "#### Lets find out the total return orders"
   ]
  },
  {
   "cell_type": "code",
   "execution_count": 7,
   "id": "5da23c0b",
   "metadata": {},
   "outputs": [
    {
     "name": "stdout",
     "output_type": "stream",
     "text": [
      "Total number of Return Orders =  5172\n"
     ]
    }
   ],
   "source": [
    "total_return=df[df['Quantity']<0].InvoiceNo.nunique()\n",
    "print(\"Total number of Return Orders = \",total_return)"
   ]
  },
  {
   "cell_type": "markdown",
   "id": "be020c42",
   "metadata": {},
   "source": [
    "#### Let's see the order count country wise "
   ]
  },
  {
   "cell_type": "code",
   "execution_count": 8,
   "id": "936827ca",
   "metadata": {},
   "outputs": [],
   "source": [
    "import matplotlib.pyplot as plt"
   ]
  },
  {
   "cell_type": "code",
   "execution_count": 9,
   "id": "9576ddd5",
   "metadata": {},
   "outputs": [
    {
     "data": {
      "image/png": "[encoded data removed]",
      "text/plain": [
       "<Figure size 432x288 with 1 Axes>"
      ]
     },
     "metadata": {
      "needs_background": "light"
     },
     "output_type": "display_data"
    }
   ],
   "source": [
    "df['Country'].value_counts(normalize=True).head(10).plot(kind='bar')\n",
    "plt.xlabel('Countries')\n",
    "plt.ylabel('Percentage of orders')\n",
    "plt.title('Top 10 country having the maximum order')\n",
    "plt.show()"
   ]
  },
  {
   "cell_type": "markdown",
   "id": "54005c5f",
   "metadata": {},
   "source": [
    "From this we can conclude that more than 90% orders are from UK "
   ]
  },
  {
   "cell_type": "code",
   "execution_count": 10,
   "id": "bd3d7843",
   "metadata": {},
   "outputs": [],
   "source": [
    "#Restricting the Data only for UK\n",
    "df= df[df['Country']=='United Kingdom']\n",
    "\n",
    "#Restricting the Data where quantity > 0\n",
    "df=df[df['Quantity']>0]\n",
    "\n",
    "\n"
   ]
  },
  {
   "cell_type": "code",
   "execution_count": 11,
   "id": "0c976221",
   "metadata": {},
   "outputs": [],
   "source": [
    "#Convert the date into DateTime object. Print the max and min date.\n",
    "df['InvoiceDate']=pd.to_datetime(df['InvoiceDate'])\n",
    "\n",
    "df['Month']=df['InvoiceDate'].dt.month\n",
    "df['Year']=df['InvoiceDate'].dt.year"
   ]
  },
  {
   "cell_type": "code",
   "execution_count": 12,
   "id": "e63fa203",
   "metadata": {},
   "outputs": [],
   "source": [
    "#converting from integers to strings\n",
    "df['Month'] = df['Month'].astype('str')\n",
    "df['Year'] = df['Year'].astype('str')\n",
    "\n",
    "df['Month-Year_wise']=df['Month']+\"-\"+df['Year']"
   ]
  },
  {
   "cell_type": "markdown",
   "id": "3355c173",
   "metadata": {},
   "source": [
    "Drop record where CustomerID is null\n",
    "\n",
    "Drop record where Unitprice is less than 0\n",
    "\n",
    "Create a revenue field (Revenue = Quantity * Unit Price)"
   ]
  },
  {
   "cell_type": "code",
   "execution_count": 13,
   "id": "48ac8639",
   "metadata": {},
   "outputs": [],
   "source": [
    "df=df[df['CustomerID'].notnull()]"
   ]
  },
  {
   "cell_type": "code",
   "execution_count": 14,
   "id": "6b7c698f",
   "metadata": {},
   "outputs": [],
   "source": [
    "df['Revenue']=df['Quantity']*df['UnitPrice']"
   ]
  },
  {
   "cell_type": "markdown",
   "id": "c972c313",
   "metadata": {},
   "source": [
    "#### Aggregating the Orders by Month"
   ]
  },
  {
   "cell_type": "code",
   "execution_count": 15,
   "id": "2c422908",
   "metadata": {},
   "outputs": [
    {
     "name": "stdout",
     "output_type": "stream",
     "text": [
      "The minimum date is :  2010-12-01\n",
      "The minimum date is :  2011-12-09\n"
     ]
    }
   ],
   "source": [
    "print(\"The minimum date is : \",df['InvoiceDate'].min().date())\n",
    "print(\"The minimum date is : \",df['InvoiceDate'].max().date())"
   ]
  },
  {
   "cell_type": "markdown",
   "id": "304c933d",
   "metadata": {},
   "source": [
    "So we have around 1 year of data "
   ]
  },
  {
   "cell_type": "code",
   "execution_count": 16,
   "id": "8e445763",
   "metadata": {
    "scrolled": true
   },
   "outputs": [
    {
     "data": {
      "text/plain": [
       "datetime.date(2011, 12, 9)"
      ]
     },
     "execution_count": 16,
     "metadata": {},
     "output_type": "execute_result"
    }
   ],
   "source": [
    "df['InvoiceDate'].max().date()"
   ]
  },
  {
   "cell_type": "code",
   "execution_count": 17,
   "id": "65eefb1e",
   "metadata": {},
   "outputs": [
    {
     "data": {
      "text/plain": [
       "datetime.date(2010, 12, 1)"
      ]
     },
     "execution_count": 17,
     "metadata": {},
     "output_type": "execute_result"
    }
   ],
   "source": [
    "df['InvoiceDate'].min().date()"
   ]
  },
  {
   "cell_type": "code",
   "execution_count": 18,
   "id": "dd9b8770",
   "metadata": {},
   "outputs": [],
   "source": [
    "df['Month'] = df['Month'].astype('int')\n",
    "df['Year'] = df['Year'].astype('int')\n",
    "df_month_agg = df.groupby('Month-Year_wise',as_index=False).agg({'InvoiceNo': 'nunique',\n",
    "                                                                  'Revenue':'sum',\n",
    "                                                                'Year':'first',\n",
    "                                                                'Month':'first'}).rename(columns={'InvoiceNo':'No. of Orders'})\n",
    "\n",
    "df_month_agg = df_month_agg.sort_values(by=['Year','Month'])"
   ]
  },
  {
   "cell_type": "markdown",
   "id": "a8e891bf",
   "metadata": {},
   "source": [
    "#### Create Month wise Quatity plot (line plot)\n"
   ]
  },
  {
   "cell_type": "code",
   "execution_count": 19,
   "id": "8a737200",
   "metadata": {},
   "outputs": [
    {
     "data": {
      "text/html": [
       "<div>\n",
       "<style scoped>\n",
       "    .dataframe tbody tr th:only-of-type {\n",
       "        vertical-align: middle;\n",
       "    }\n",
       "\n",
       "    .dataframe tbody tr th {\n",
       "        vertical-align: top;\n",
       "    }\n",
       "\n",
       "    .dataframe thead th {\n",
       "        text-align: right;\n",
       "    }\n",
       "</style>\n",
       "<table border=\"1\" class=\"dataframe\">\n",
       "  <thead>\n",
       "    <tr style=\"text-align: right;\">\n",
       "      <th></th>\n",
       "      <th>Month-Year_wise</th>\n",
       "      <th>No. of Orders</th>\n",
       "    </tr>\n",
       "  </thead>\n",
       "  <tbody>\n",
       "    <tr>\n",
       "      <th>3</th>\n",
       "      <td>12-2010</td>\n",
       "      <td>1291</td>\n",
       "    </tr>\n",
       "    <tr>\n",
       "      <th>0</th>\n",
       "      <td>1-2011</td>\n",
       "      <td>874</td>\n",
       "    </tr>\n",
       "    <tr>\n",
       "      <th>5</th>\n",
       "      <td>2-2011</td>\n",
       "      <td>897</td>\n",
       "    </tr>\n",
       "    <tr>\n",
       "      <th>6</th>\n",
       "      <td>3-2011</td>\n",
       "      <td>1177</td>\n",
       "    </tr>\n",
       "    <tr>\n",
       "      <th>7</th>\n",
       "      <td>4-2011</td>\n",
       "      <td>1058</td>\n",
       "    </tr>\n",
       "  </tbody>\n",
       "</table>\n",
       "</div>"
      ],
      "text/plain": [
       "  Month-Year_wise  No. of Orders\n",
       "3         12-2010           1291\n",
       "0          1-2011            874\n",
       "5          2-2011            897\n",
       "6          3-2011           1177\n",
       "7          4-2011           1058"
      ]
     },
     "execution_count": 19,
     "metadata": {},
     "output_type": "execute_result"
    }
   ],
   "source": [
    "df_month_agg[['Month-Year_wise','No. of Orders']].head(5)"
   ]
  },
  {
   "cell_type": "code",
   "execution_count": 20,
   "id": "75b52048",
   "metadata": {},
   "outputs": [
    {
     "data": {
      "image/png": "[encoded data removed]",
      "text/plain": [
       "<Figure size 1080x432 with 1 Axes>"
      ]
     },
     "metadata": {
      "needs_background": "light"
     },
     "output_type": "display_data"
    }
   ],
   "source": [
    "plt.figure(figsize=(15,6))\n",
    "plt.plot(df_month_agg['Month-Year_wise'],df_month_agg['No. of Orders'])\n",
    "plt.xlabel('Month')\n",
    "plt.ylabel('No of orders')\n",
    "plt.title('Month wise orders')\n",
    "plt.savefig('Month wise orders.png')\n",
    "plt.show()"
   ]
  },
  {
   "cell_type": "markdown",
   "id": "a63b1a41",
   "metadata": {},
   "source": [
    "#### Create Month wise Revenue plot (line plot)"
   ]
  },
  {
   "cell_type": "code",
   "execution_count": 21,
   "id": "a5c84845",
   "metadata": {},
   "outputs": [
    {
     "data": {
      "image/png": "[encoded data removed]",
      "text/plain": [
       "<Figure size 1080x432 with 1 Axes>"
      ]
     },
     "metadata": {
      "needs_background": "light"
     },
     "output_type": "display_data"
    }
   ],
   "source": [
    "plt.figure(figsize=(15,6))\n",
    "plt.plot(df_month_agg['Month-Year_wise'],df_month_agg['Revenue'])\n",
    "plt.xlabel('Month')\n",
    "plt.ylabel('Revenue')\n",
    "plt.title('Month wise Revenue')\n",
    "plt.savefig('Month wise Revenue.png')\n",
    "plt.show()"
   ]
  },
  {
   "cell_type": "markdown",
   "id": "fc00e05f",
   "metadata": {},
   "source": [
    "### Recency"
   ]
  },
  {
   "cell_type": "code",
   "execution_count": 22,
   "id": "23a0ea4e",
   "metadata": {},
   "outputs": [
    {
     "name": "stderr",
     "output_type": "stream",
     "text": [
      "<ipython-input-22-1093656f6a40>:1: FutureWarning: The pandas.datetime class is deprecated and will be removed from pandas in a future version. Import from datetime module instead.\n",
      "  last_date=pd.datetime(2011,12,9)\n"
     ]
    }
   ],
   "source": [
    "last_date=pd.datetime(2011,12,9)"
   ]
  },
  {
   "cell_type": "code",
   "execution_count": 23,
   "id": "a59679bf",
   "metadata": {},
   "outputs": [
    {
     "data": {
      "text/plain": [
       "datetime.datetime(2011, 12, 9, 0, 0)"
      ]
     },
     "execution_count": 23,
     "metadata": {},
     "output_type": "execute_result"
    }
   ],
   "source": [
    "last_date"
   ]
  },
  {
   "cell_type": "code",
   "execution_count": 24,
   "id": "8c54391e",
   "metadata": {},
   "outputs": [
    {
     "data": {
      "text/html": [
       "<div>\n",
       "<style scoped>\n",
       "    .dataframe tbody tr th:only-of-type {\n",
       "        vertical-align: middle;\n",
       "    }\n",
       "\n",
       "    .dataframe tbody tr th {\n",
       "        vertical-align: top;\n",
       "    }\n",
       "\n",
       "    .dataframe thead th {\n",
       "        text-align: right;\n",
       "    }\n",
       "</style>\n",
       "<table border=\"1\" class=\"dataframe\">\n",
       "  <thead>\n",
       "    <tr style=\"text-align: right;\">\n",
       "      <th></th>\n",
       "      <th>CustomerID</th>\n",
       "      <th>InvoiceDate</th>\n",
       "      <th>Recency</th>\n",
       "    </tr>\n",
       "  </thead>\n",
       "  <tbody>\n",
       "    <tr>\n",
       "      <th>0</th>\n",
       "      <td>12346.0</td>\n",
       "      <td>2011-01-18 10:01:00</td>\n",
       "      <td>324</td>\n",
       "    </tr>\n",
       "    <tr>\n",
       "      <th>1</th>\n",
       "      <td>12747.0</td>\n",
       "      <td>2011-12-07 14:34:00</td>\n",
       "      <td>1</td>\n",
       "    </tr>\n",
       "    <tr>\n",
       "      <th>2</th>\n",
       "      <td>12748.0</td>\n",
       "      <td>2011-12-09 12:20:00</td>\n",
       "      <td>0</td>\n",
       "    </tr>\n",
       "    <tr>\n",
       "      <th>3</th>\n",
       "      <td>12749.0</td>\n",
       "      <td>2011-12-06 09:56:00</td>\n",
       "      <td>2</td>\n",
       "    </tr>\n",
       "    <tr>\n",
       "      <th>4</th>\n",
       "      <td>12820.0</td>\n",
       "      <td>2011-12-06 15:12:00</td>\n",
       "      <td>2</td>\n",
       "    </tr>\n",
       "    <tr>\n",
       "      <th>...</th>\n",
       "      <td>...</td>\n",
       "      <td>...</td>\n",
       "      <td>...</td>\n",
       "    </tr>\n",
       "    <tr>\n",
       "      <th>3916</th>\n",
       "      <td>18280.0</td>\n",
       "      <td>2011-03-07 09:52:00</td>\n",
       "      <td>276</td>\n",
       "    </tr>\n",
       "    <tr>\n",
       "      <th>3917</th>\n",
       "      <td>18281.0</td>\n",
       "      <td>2011-06-12 10:53:00</td>\n",
       "      <td>179</td>\n",
       "    </tr>\n",
       "    <tr>\n",
       "      <th>3918</th>\n",
       "      <td>18282.0</td>\n",
       "      <td>2011-12-02 11:43:00</td>\n",
       "      <td>6</td>\n",
       "    </tr>\n",
       "    <tr>\n",
       "      <th>3919</th>\n",
       "      <td>18283.0</td>\n",
       "      <td>2011-12-06 12:02:00</td>\n",
       "      <td>2</td>\n",
       "    </tr>\n",
       "    <tr>\n",
       "      <th>3920</th>\n",
       "      <td>18287.0</td>\n",
       "      <td>2011-10-28 09:29:00</td>\n",
       "      <td>41</td>\n",
       "    </tr>\n",
       "  </tbody>\n",
       "</table>\n",
       "<p>3921 rows × 3 columns</p>\n",
       "</div>"
      ],
      "text/plain": [
       "      CustomerID         InvoiceDate  Recency\n",
       "0        12346.0 2011-01-18 10:01:00      324\n",
       "1        12747.0 2011-12-07 14:34:00        1\n",
       "2        12748.0 2011-12-09 12:20:00        0\n",
       "3        12749.0 2011-12-06 09:56:00        2\n",
       "4        12820.0 2011-12-06 15:12:00        2\n",
       "...          ...                 ...      ...\n",
       "3916     18280.0 2011-03-07 09:52:00      276\n",
       "3917     18281.0 2011-06-12 10:53:00      179\n",
       "3918     18282.0 2011-12-02 11:43:00        6\n",
       "3919     18283.0 2011-12-06 12:02:00        2\n",
       "3920     18287.0 2011-10-28 09:29:00       41\n",
       "\n",
       "[3921 rows x 3 columns]"
      ]
     },
     "execution_count": 24,
     "metadata": {},
     "output_type": "execute_result"
    }
   ],
   "source": [
    "df_recency = df.groupby('CustomerID',as_index=False).agg({'InvoiceDate':'max'})\n",
    "df_recency['Recency']=(last_date-df_recency['InvoiceDate']).dt.days  #aaj ke din se customer ne kitne din pehle order kara tha \n",
    "df_recency['Recency'].replace([-1],[0],inplace=True)\n",
    "df_recency"
   ]
  },
  {
   "cell_type": "markdown",
   "id": "c2242a13",
   "metadata": {},
   "source": [
    "### Frequency-Monetary"
   ]
  },
  {
   "cell_type": "code",
   "execution_count": 25,
   "id": "6e62b6c1",
   "metadata": {},
   "outputs": [],
   "source": [
    "df_FM=df.groupby('CustomerID',as_index=False).agg({'InvoiceNo':'nunique',\n",
    "                                            'Revenue':'sum'})"
   ]
  },
  {
   "cell_type": "code",
   "execution_count": 26,
   "id": "f2c5467f",
   "metadata": {},
   "outputs": [],
   "source": [
    "df_RFM=pd.merge(df_recency,df_FM,on='CustomerID',how='inner')"
   ]
  },
  {
   "cell_type": "code",
   "execution_count": 27,
   "id": "0dcac5e7",
   "metadata": {
    "scrolled": true
   },
   "outputs": [],
   "source": [
    "df_RFM.rename(columns={'InvoiceNo':'Frequency'},inplace=True)"
   ]
  },
  {
   "cell_type": "code",
   "execution_count": 29,
   "id": "4fe8823d",
   "metadata": {},
   "outputs": [],
   "source": [
    "df_RFM.rename(columns={'Revenue':'Monetary'},inplace=True)"
   ]
  },
  {
   "cell_type": "code",
   "execution_count": 30,
   "id": "994d91e7",
   "metadata": {},
   "outputs": [
    {
     "data": {
      "text/html": [
       "<div>\n",
       "<style scoped>\n",
       "    .dataframe tbody tr th:only-of-type {\n",
       "        vertical-align: middle;\n",
       "    }\n",
       "\n",
       "    .dataframe tbody tr th {\n",
       "        vertical-align: top;\n",
       "    }\n",
       "\n",
       "    .dataframe thead th {\n",
       "        text-align: right;\n",
       "    }\n",
       "</style>\n",
       "<table border=\"1\" class=\"dataframe\">\n",
       "  <thead>\n",
       "    <tr style=\"text-align: right;\">\n",
       "      <th></th>\n",
       "      <th>CustomerID</th>\n",
       "      <th>InvoiceDate</th>\n",
       "      <th>Recency</th>\n",
       "      <th>Frequency</th>\n",
       "      <th>Monetary</th>\n",
       "    </tr>\n",
       "  </thead>\n",
       "  <tbody>\n",
       "    <tr>\n",
       "      <th>0</th>\n",
       "      <td>12346.0</td>\n",
       "      <td>2011-01-18 10:01:00</td>\n",
       "      <td>324</td>\n",
       "      <td>1</td>\n",
       "      <td>77183.60</td>\n",
       "    </tr>\n",
       "    <tr>\n",
       "      <th>1</th>\n",
       "      <td>12747.0</td>\n",
       "      <td>2011-12-07 14:34:00</td>\n",
       "      <td>1</td>\n",
       "      <td>11</td>\n",
       "      <td>4196.01</td>\n",
       "    </tr>\n",
       "    <tr>\n",
       "      <th>2</th>\n",
       "      <td>12748.0</td>\n",
       "      <td>2011-12-09 12:20:00</td>\n",
       "      <td>0</td>\n",
       "      <td>210</td>\n",
       "      <td>33719.73</td>\n",
       "    </tr>\n",
       "    <tr>\n",
       "      <th>3</th>\n",
       "      <td>12749.0</td>\n",
       "      <td>2011-12-06 09:56:00</td>\n",
       "      <td>2</td>\n",
       "      <td>5</td>\n",
       "      <td>4090.88</td>\n",
       "    </tr>\n",
       "    <tr>\n",
       "      <th>4</th>\n",
       "      <td>12820.0</td>\n",
       "      <td>2011-12-06 15:12:00</td>\n",
       "      <td>2</td>\n",
       "      <td>4</td>\n",
       "      <td>942.34</td>\n",
       "    </tr>\n",
       "    <tr>\n",
       "      <th>...</th>\n",
       "      <td>...</td>\n",
       "      <td>...</td>\n",
       "      <td>...</td>\n",
       "      <td>...</td>\n",
       "      <td>...</td>\n",
       "    </tr>\n",
       "    <tr>\n",
       "      <th>3916</th>\n",
       "      <td>18280.0</td>\n",
       "      <td>2011-03-07 09:52:00</td>\n",
       "      <td>276</td>\n",
       "      <td>1</td>\n",
       "      <td>180.60</td>\n",
       "    </tr>\n",
       "    <tr>\n",
       "      <th>3917</th>\n",
       "      <td>18281.0</td>\n",
       "      <td>2011-06-12 10:53:00</td>\n",
       "      <td>179</td>\n",
       "      <td>1</td>\n",
       "      <td>80.82</td>\n",
       "    </tr>\n",
       "    <tr>\n",
       "      <th>3918</th>\n",
       "      <td>18282.0</td>\n",
       "      <td>2011-12-02 11:43:00</td>\n",
       "      <td>6</td>\n",
       "      <td>2</td>\n",
       "      <td>178.05</td>\n",
       "    </tr>\n",
       "    <tr>\n",
       "      <th>3919</th>\n",
       "      <td>18283.0</td>\n",
       "      <td>2011-12-06 12:02:00</td>\n",
       "      <td>2</td>\n",
       "      <td>16</td>\n",
       "      <td>2094.88</td>\n",
       "    </tr>\n",
       "    <tr>\n",
       "      <th>3920</th>\n",
       "      <td>18287.0</td>\n",
       "      <td>2011-10-28 09:29:00</td>\n",
       "      <td>41</td>\n",
       "      <td>3</td>\n",
       "      <td>1837.28</td>\n",
       "    </tr>\n",
       "  </tbody>\n",
       "</table>\n",
       "<p>3921 rows × 5 columns</p>\n",
       "</div>"
      ],
      "text/plain": [
       "      CustomerID         InvoiceDate  Recency  Frequency  Monetary\n",
       "0        12346.0 2011-01-18 10:01:00      324          1  77183.60\n",
       "1        12747.0 2011-12-07 14:34:00        1         11   4196.01\n",
       "2        12748.0 2011-12-09 12:20:00        0        210  33719.73\n",
       "3        12749.0 2011-12-06 09:56:00        2          5   4090.88\n",
       "4        12820.0 2011-12-06 15:12:00        2          4    942.34\n",
       "...          ...                 ...      ...        ...       ...\n",
       "3916     18280.0 2011-03-07 09:52:00      276          1    180.60\n",
       "3917     18281.0 2011-06-12 10:53:00      179          1     80.82\n",
       "3918     18282.0 2011-12-02 11:43:00        6          2    178.05\n",
       "3919     18283.0 2011-12-06 12:02:00        2         16   2094.88\n",
       "3920     18287.0 2011-10-28 09:29:00       41          3   1837.28\n",
       "\n",
       "[3921 rows x 5 columns]"
      ]
     },
     "execution_count": 30,
     "metadata": {},
     "output_type": "execute_result"
    }
   ],
   "source": [
    "#df_RFM.drop(columns='InvoiceDate',inplace=True)\n",
    "df_RFM"
   ]
  },
  {
   "cell_type": "markdown",
   "id": "c9da14d1",
   "metadata": {},
   "source": [
    "#### Modeling Data : RFM Quantiles"
   ]
  },
  {
   "cell_type": "markdown",
   "id": "fc37a660",
   "metadata": {},
   "source": [
    "Understanding Recency, Frequency, Monetary Value\n",
    "The RFM model is based on three quantitative factors:\n",
    "\n",
    "\n",
    "Recency: How recently a customer has made a purchase\n",
    "Frequency: How often a customer makes a purchase\n",
    "Monetary Value: How much money a customer spends on purchases\n",
    "\n",
    "\n",
    "Now we split the metric into segments using Quantiles.We will asign scores from 1-4 to each recency frequency and monetary respectively.\n",
    "\n",
    "1 is the highest value and 4 is the lowest value.\n",
    "\n",
    "Our final RFM score is calculated simply by combining indivisual RFM scores"
   ]
  },
  {
   "cell_type": "code",
   "execution_count": 31,
   "id": "7bff695d",
   "metadata": {},
   "outputs": [
    {
     "data": {
      "text/plain": [
       "{'CustomerID': {0.25: 14208.0, 0.5: 15569.0, 0.75: 16913.0},\n",
       " 'Recency': {0.25: 16.0, 0.5: 49.0, 0.75: 141.0},\n",
       " 'Frequency': {0.25: 1.0, 0.5: 2.0, 0.75: 5.0},\n",
       " 'Monetary': {0.25: 300.03999999999996,\n",
       "  0.5: 651.8200000000002,\n",
       "  0.75: 1575.8900000000003}}"
      ]
     },
     "execution_count": 31,
     "metadata": {},
     "output_type": "execute_result"
    }
   ],
   "source": [
    "Quantiles = df_RFM.quantile(q=[0.25,0.5,0.75])\n",
    "Quantiles = Quantiles.to_dict()\n",
    "Quantiles"
   ]
  },
  {
   "cell_type": "code",
   "execution_count": 32,
   "id": "93a99667",
   "metadata": {},
   "outputs": [],
   "source": [
    "segmented_RFM=df_RFM.copy()\n"
   ]
  },
  {
   "cell_type": "code",
   "execution_count": 33,
   "id": "212017be",
   "metadata": {},
   "outputs": [],
   "source": [
    "def RScore(data,key,Quantiles):\n",
    "    if data<= Quantiles[key][0.25]:\n",
    "        return 1 \n",
    "    elif data<= Quantiles[key][0.50]:\n",
    "        return 2 \n",
    "    elif data<= Quantiles[key][0.75]:\n",
    "        return 3 \n",
    "    else:\n",
    "        return 4 \n",
    "    \n",
    "def FMScore(data,key,Quantiles):\n",
    "    if data<= Quantiles[key][0.25]:\n",
    "        return 4 \n",
    "    elif data<= Quantiles[key][0.50]:\n",
    "        return 3 \n",
    "    elif data<= Quantiles[key][0.75]:\n",
    "        return 2 \n",
    "    else:\n",
    "        return 1 "
   ]
  },
  {
   "cell_type": "code",
   "execution_count": 34,
   "id": "3eb31188",
   "metadata": {},
   "outputs": [
    {
     "data": {
      "text/html": [
       "<div>\n",
       "<style scoped>\n",
       "    .dataframe tbody tr th:only-of-type {\n",
       "        vertical-align: middle;\n",
       "    }\n",
       "\n",
       "    .dataframe tbody tr th {\n",
       "        vertical-align: top;\n",
       "    }\n",
       "\n",
       "    .dataframe thead th {\n",
       "        text-align: right;\n",
       "    }\n",
       "</style>\n",
       "<table border=\"1\" class=\"dataframe\">\n",
       "  <thead>\n",
       "    <tr style=\"text-align: right;\">\n",
       "      <th></th>\n",
       "      <th>CustomerID</th>\n",
       "      <th>InvoiceDate</th>\n",
       "      <th>Recency</th>\n",
       "      <th>Frequency</th>\n",
       "      <th>Monetary</th>\n",
       "    </tr>\n",
       "  </thead>\n",
       "  <tbody>\n",
       "    <tr>\n",
       "      <th>0</th>\n",
       "      <td>12346.0</td>\n",
       "      <td>2011-01-18 10:01:00</td>\n",
       "      <td>324</td>\n",
       "      <td>1</td>\n",
       "      <td>77183.60</td>\n",
       "    </tr>\n",
       "    <tr>\n",
       "      <th>1</th>\n",
       "      <td>12747.0</td>\n",
       "      <td>2011-12-07 14:34:00</td>\n",
       "      <td>1</td>\n",
       "      <td>11</td>\n",
       "      <td>4196.01</td>\n",
       "    </tr>\n",
       "    <tr>\n",
       "      <th>2</th>\n",
       "      <td>12748.0</td>\n",
       "      <td>2011-12-09 12:20:00</td>\n",
       "      <td>0</td>\n",
       "      <td>210</td>\n",
       "      <td>33719.73</td>\n",
       "    </tr>\n",
       "    <tr>\n",
       "      <th>3</th>\n",
       "      <td>12749.0</td>\n",
       "      <td>2011-12-06 09:56:00</td>\n",
       "      <td>2</td>\n",
       "      <td>5</td>\n",
       "      <td>4090.88</td>\n",
       "    </tr>\n",
       "    <tr>\n",
       "      <th>4</th>\n",
       "      <td>12820.0</td>\n",
       "      <td>2011-12-06 15:12:00</td>\n",
       "      <td>2</td>\n",
       "      <td>4</td>\n",
       "      <td>942.34</td>\n",
       "    </tr>\n",
       "    <tr>\n",
       "      <th>...</th>\n",
       "      <td>...</td>\n",
       "      <td>...</td>\n",
       "      <td>...</td>\n",
       "      <td>...</td>\n",
       "      <td>...</td>\n",
       "    </tr>\n",
       "    <tr>\n",
       "      <th>3916</th>\n",
       "      <td>18280.0</td>\n",
       "      <td>2011-03-07 09:52:00</td>\n",
       "      <td>276</td>\n",
       "      <td>1</td>\n",
       "      <td>180.60</td>\n",
       "    </tr>\n",
       "    <tr>\n",
       "      <th>3917</th>\n",
       "      <td>18281.0</td>\n",
       "      <td>2011-06-12 10:53:00</td>\n",
       "      <td>179</td>\n",
       "      <td>1</td>\n",
       "      <td>80.82</td>\n",
       "    </tr>\n",
       "    <tr>\n",
       "      <th>3918</th>\n",
       "      <td>18282.0</td>\n",
       "      <td>2011-12-02 11:43:00</td>\n",
       "      <td>6</td>\n",
       "      <td>2</td>\n",
       "      <td>178.05</td>\n",
       "    </tr>\n",
       "    <tr>\n",
       "      <th>3919</th>\n",
       "      <td>18283.0</td>\n",
       "      <td>2011-12-06 12:02:00</td>\n",
       "      <td>2</td>\n",
       "      <td>16</td>\n",
       "      <td>2094.88</td>\n",
       "    </tr>\n",
       "    <tr>\n",
       "      <th>3920</th>\n",
       "      <td>18287.0</td>\n",
       "      <td>2011-10-28 09:29:00</td>\n",
       "      <td>41</td>\n",
       "      <td>3</td>\n",
       "      <td>1837.28</td>\n",
       "    </tr>\n",
       "  </tbody>\n",
       "</table>\n",
       "<p>3921 rows × 5 columns</p>\n",
       "</div>"
      ],
      "text/plain": [
       "      CustomerID         InvoiceDate  Recency  Frequency  Monetary\n",
       "0        12346.0 2011-01-18 10:01:00      324          1  77183.60\n",
       "1        12747.0 2011-12-07 14:34:00        1         11   4196.01\n",
       "2        12748.0 2011-12-09 12:20:00        0        210  33719.73\n",
       "3        12749.0 2011-12-06 09:56:00        2          5   4090.88\n",
       "4        12820.0 2011-12-06 15:12:00        2          4    942.34\n",
       "...          ...                 ...      ...        ...       ...\n",
       "3916     18280.0 2011-03-07 09:52:00      276          1    180.60\n",
       "3917     18281.0 2011-06-12 10:53:00      179          1     80.82\n",
       "3918     18282.0 2011-12-02 11:43:00        6          2    178.05\n",
       "3919     18283.0 2011-12-06 12:02:00        2         16   2094.88\n",
       "3920     18287.0 2011-10-28 09:29:00       41          3   1837.28\n",
       "\n",
       "[3921 rows x 5 columns]"
      ]
     },
     "execution_count": 34,
     "metadata": {},
     "output_type": "execute_result"
    }
   ],
   "source": [
    "segmented_RFM"
   ]
  },
  {
   "cell_type": "code",
   "execution_count": 35,
   "id": "853e8693",
   "metadata": {},
   "outputs": [
    {
     "data": {
      "text/html": [
       "<div>\n",
       "<style scoped>\n",
       "    .dataframe tbody tr th:only-of-type {\n",
       "        vertical-align: middle;\n",
       "    }\n",
       "\n",
       "    .dataframe tbody tr th {\n",
       "        vertical-align: top;\n",
       "    }\n",
       "\n",
       "    .dataframe thead th {\n",
       "        text-align: right;\n",
       "    }\n",
       "</style>\n",
       "<table border=\"1\" class=\"dataframe\">\n",
       "  <thead>\n",
       "    <tr style=\"text-align: right;\">\n",
       "      <th></th>\n",
       "      <th>CustomerID</th>\n",
       "      <th>InvoiceDate</th>\n",
       "      <th>Recency</th>\n",
       "      <th>Frequency</th>\n",
       "      <th>Monetary</th>\n",
       "      <th>Recency_quartile</th>\n",
       "      <th>Frequency_quartile</th>\n",
       "      <th>Monetary_quartile</th>\n",
       "    </tr>\n",
       "  </thead>\n",
       "  <tbody>\n",
       "    <tr>\n",
       "      <th>0</th>\n",
       "      <td>12346.0</td>\n",
       "      <td>2011-01-18 10:01:00</td>\n",
       "      <td>324</td>\n",
       "      <td>1</td>\n",
       "      <td>77183.60</td>\n",
       "      <td>4</td>\n",
       "      <td>4</td>\n",
       "      <td>1</td>\n",
       "    </tr>\n",
       "    <tr>\n",
       "      <th>1</th>\n",
       "      <td>12747.0</td>\n",
       "      <td>2011-12-07 14:34:00</td>\n",
       "      <td>1</td>\n",
       "      <td>11</td>\n",
       "      <td>4196.01</td>\n",
       "      <td>1</td>\n",
       "      <td>1</td>\n",
       "      <td>1</td>\n",
       "    </tr>\n",
       "    <tr>\n",
       "      <th>2</th>\n",
       "      <td>12748.0</td>\n",
       "      <td>2011-12-09 12:20:00</td>\n",
       "      <td>0</td>\n",
       "      <td>210</td>\n",
       "      <td>33719.73</td>\n",
       "      <td>1</td>\n",
       "      <td>1</td>\n",
       "      <td>1</td>\n",
       "    </tr>\n",
       "    <tr>\n",
       "      <th>3</th>\n",
       "      <td>12749.0</td>\n",
       "      <td>2011-12-06 09:56:00</td>\n",
       "      <td>2</td>\n",
       "      <td>5</td>\n",
       "      <td>4090.88</td>\n",
       "      <td>1</td>\n",
       "      <td>2</td>\n",
       "      <td>1</td>\n",
       "    </tr>\n",
       "    <tr>\n",
       "      <th>4</th>\n",
       "      <td>12820.0</td>\n",
       "      <td>2011-12-06 15:12:00</td>\n",
       "      <td>2</td>\n",
       "      <td>4</td>\n",
       "      <td>942.34</td>\n",
       "      <td>1</td>\n",
       "      <td>2</td>\n",
       "      <td>2</td>\n",
       "    </tr>\n",
       "    <tr>\n",
       "      <th>...</th>\n",
       "      <td>...</td>\n",
       "      <td>...</td>\n",
       "      <td>...</td>\n",
       "      <td>...</td>\n",
       "      <td>...</td>\n",
       "      <td>...</td>\n",
       "      <td>...</td>\n",
       "      <td>...</td>\n",
       "    </tr>\n",
       "    <tr>\n",
       "      <th>3916</th>\n",
       "      <td>18280.0</td>\n",
       "      <td>2011-03-07 09:52:00</td>\n",
       "      <td>276</td>\n",
       "      <td>1</td>\n",
       "      <td>180.60</td>\n",
       "      <td>4</td>\n",
       "      <td>4</td>\n",
       "      <td>4</td>\n",
       "    </tr>\n",
       "    <tr>\n",
       "      <th>3917</th>\n",
       "      <td>18281.0</td>\n",
       "      <td>2011-06-12 10:53:00</td>\n",
       "      <td>179</td>\n",
       "      <td>1</td>\n",
       "      <td>80.82</td>\n",
       "      <td>4</td>\n",
       "      <td>4</td>\n",
       "      <td>4</td>\n",
       "    </tr>\n",
       "    <tr>\n",
       "      <th>3918</th>\n",
       "      <td>18282.0</td>\n",
       "      <td>2011-12-02 11:43:00</td>\n",
       "      <td>6</td>\n",
       "      <td>2</td>\n",
       "      <td>178.05</td>\n",
       "      <td>1</td>\n",
       "      <td>3</td>\n",
       "      <td>4</td>\n",
       "    </tr>\n",
       "    <tr>\n",
       "      <th>3919</th>\n",
       "      <td>18283.0</td>\n",
       "      <td>2011-12-06 12:02:00</td>\n",
       "      <td>2</td>\n",
       "      <td>16</td>\n",
       "      <td>2094.88</td>\n",
       "      <td>1</td>\n",
       "      <td>1</td>\n",
       "      <td>1</td>\n",
       "    </tr>\n",
       "    <tr>\n",
       "      <th>3920</th>\n",
       "      <td>18287.0</td>\n",
       "      <td>2011-10-28 09:29:00</td>\n",
       "      <td>41</td>\n",
       "      <td>3</td>\n",
       "      <td>1837.28</td>\n",
       "      <td>2</td>\n",
       "      <td>2</td>\n",
       "      <td>1</td>\n",
       "    </tr>\n",
       "  </tbody>\n",
       "</table>\n",
       "<p>3921 rows × 8 columns</p>\n",
       "</div>"
      ],
      "text/plain": [
       "      CustomerID         InvoiceDate  Recency  Frequency  Monetary  \\\n",
       "0        12346.0 2011-01-18 10:01:00      324          1  77183.60   \n",
       "1        12747.0 2011-12-07 14:34:00        1         11   4196.01   \n",
       "2        12748.0 2011-12-09 12:20:00        0        210  33719.73   \n",
       "3        12749.0 2011-12-06 09:56:00        2          5   4090.88   \n",
       "4        12820.0 2011-12-06 15:12:00        2          4    942.34   \n",
       "...          ...                 ...      ...        ...       ...   \n",
       "3916     18280.0 2011-03-07 09:52:00      276          1    180.60   \n",
       "3917     18281.0 2011-06-12 10:53:00      179          1     80.82   \n",
       "3918     18282.0 2011-12-02 11:43:00        6          2    178.05   \n",
       "3919     18283.0 2011-12-06 12:02:00        2         16   2094.88   \n",
       "3920     18287.0 2011-10-28 09:29:00       41          3   1837.28   \n",
       "\n",
       "      Recency_quartile  Frequency_quartile  Monetary_quartile  \n",
       "0                    4                   4                  1  \n",
       "1                    1                   1                  1  \n",
       "2                    1                   1                  1  \n",
       "3                    1                   2                  1  \n",
       "4                    1                   2                  2  \n",
       "...                ...                 ...                ...  \n",
       "3916                 4                   4                  4  \n",
       "3917                 4                   4                  4  \n",
       "3918                 1                   3                  4  \n",
       "3919                 1                   1                  1  \n",
       "3920                 2                   2                  1  \n",
       "\n",
       "[3921 rows x 8 columns]"
      ]
     },
     "execution_count": 35,
     "metadata": {},
     "output_type": "execute_result"
    }
   ],
   "source": [
    "#apply- everytime we have a sequence like list, array, series, pd columns\n",
    "#and we want to apply a function in each element of the sequence\n",
    "segmented_RFM['Recency_quartile']=segmented_RFM['Recency'].apply(RScore,args=('Recency',Quantiles))\n",
    "segmented_RFM['Frequency_quartile']=segmented_RFM['Frequency'].apply(FMScore,args=('Frequency',Quantiles))\n",
    "segmented_RFM['Monetary_quartile']=segmented_RFM['Monetary'].apply(FMScore,args=('Monetary',Quantiles))\n",
    "segmented_RFM"
   ]
  },
  {
   "cell_type": "code",
   "execution_count": 36,
   "id": "454616b9",
   "metadata": {},
   "outputs": [],
   "source": [
    "segmented_RFM['RFM_Score']=segmented_RFM['Recency_quartile'].map(str)+segmented_RFM['Frequency_quartile'].map(str)+segmented_RFM['Monetary_quartile'].map(str)"
   ]
  },
  {
   "cell_type": "code",
   "execution_count": 37,
   "id": "7b9ee576",
   "metadata": {},
   "outputs": [
    {
     "data": {
      "text/html": [
       "<div>\n",
       "<style scoped>\n",
       "    .dataframe tbody tr th:only-of-type {\n",
       "        vertical-align: middle;\n",
       "    }\n",
       "\n",
       "    .dataframe tbody tr th {\n",
       "        vertical-align: top;\n",
       "    }\n",
       "\n",
       "    .dataframe thead th {\n",
       "        text-align: right;\n",
       "    }\n",
       "</style>\n",
       "<table border=\"1\" class=\"dataframe\">\n",
       "  <thead>\n",
       "    <tr style=\"text-align: right;\">\n",
       "      <th></th>\n",
       "      <th>CustomerID</th>\n",
       "      <th>InvoiceDate</th>\n",
       "      <th>Recency</th>\n",
       "      <th>Frequency</th>\n",
       "      <th>Monetary</th>\n",
       "      <th>Recency_quartile</th>\n",
       "      <th>Frequency_quartile</th>\n",
       "      <th>Monetary_quartile</th>\n",
       "      <th>RFM_Score</th>\n",
       "    </tr>\n",
       "  </thead>\n",
       "  <tbody>\n",
       "    <tr>\n",
       "      <th>0</th>\n",
       "      <td>12346.0</td>\n",
       "      <td>2011-01-18 10:01:00</td>\n",
       "      <td>324</td>\n",
       "      <td>1</td>\n",
       "      <td>77183.60</td>\n",
       "      <td>4</td>\n",
       "      <td>4</td>\n",
       "      <td>1</td>\n",
       "      <td>441</td>\n",
       "    </tr>\n",
       "    <tr>\n",
       "      <th>1</th>\n",
       "      <td>12747.0</td>\n",
       "      <td>2011-12-07 14:34:00</td>\n",
       "      <td>1</td>\n",
       "      <td>11</td>\n",
       "      <td>4196.01</td>\n",
       "      <td>1</td>\n",
       "      <td>1</td>\n",
       "      <td>1</td>\n",
       "      <td>111</td>\n",
       "    </tr>\n",
       "    <tr>\n",
       "      <th>2</th>\n",
       "      <td>12748.0</td>\n",
       "      <td>2011-12-09 12:20:00</td>\n",
       "      <td>0</td>\n",
       "      <td>210</td>\n",
       "      <td>33719.73</td>\n",
       "      <td>1</td>\n",
       "      <td>1</td>\n",
       "      <td>1</td>\n",
       "      <td>111</td>\n",
       "    </tr>\n",
       "    <tr>\n",
       "      <th>3</th>\n",
       "      <td>12749.0</td>\n",
       "      <td>2011-12-06 09:56:00</td>\n",
       "      <td>2</td>\n",
       "      <td>5</td>\n",
       "      <td>4090.88</td>\n",
       "      <td>1</td>\n",
       "      <td>2</td>\n",
       "      <td>1</td>\n",
       "      <td>121</td>\n",
       "    </tr>\n",
       "    <tr>\n",
       "      <th>4</th>\n",
       "      <td>12820.0</td>\n",
       "      <td>2011-12-06 15:12:00</td>\n",
       "      <td>2</td>\n",
       "      <td>4</td>\n",
       "      <td>942.34</td>\n",
       "      <td>1</td>\n",
       "      <td>2</td>\n",
       "      <td>2</td>\n",
       "      <td>122</td>\n",
       "    </tr>\n",
       "    <tr>\n",
       "      <th>...</th>\n",
       "      <td>...</td>\n",
       "      <td>...</td>\n",
       "      <td>...</td>\n",
       "      <td>...</td>\n",
       "      <td>...</td>\n",
       "      <td>...</td>\n",
       "      <td>...</td>\n",
       "      <td>...</td>\n",
       "      <td>...</td>\n",
       "    </tr>\n",
       "    <tr>\n",
       "      <th>3916</th>\n",
       "      <td>18280.0</td>\n",
       "      <td>2011-03-07 09:52:00</td>\n",
       "      <td>276</td>\n",
       "      <td>1</td>\n",
       "      <td>180.60</td>\n",
       "      <td>4</td>\n",
       "      <td>4</td>\n",
       "      <td>4</td>\n",
       "      <td>444</td>\n",
       "    </tr>\n",
       "    <tr>\n",
       "      <th>3917</th>\n",
       "      <td>18281.0</td>\n",
       "      <td>2011-06-12 10:53:00</td>\n",
       "      <td>179</td>\n",
       "      <td>1</td>\n",
       "      <td>80.82</td>\n",
       "      <td>4</td>\n",
       "      <td>4</td>\n",
       "      <td>4</td>\n",
       "      <td>444</td>\n",
       "    </tr>\n",
       "    <tr>\n",
       "      <th>3918</th>\n",
       "      <td>18282.0</td>\n",
       "      <td>2011-12-02 11:43:00</td>\n",
       "      <td>6</td>\n",
       "      <td>2</td>\n",
       "      <td>178.05</td>\n",
       "      <td>1</td>\n",
       "      <td>3</td>\n",
       "      <td>4</td>\n",
       "      <td>134</td>\n",
       "    </tr>\n",
       "    <tr>\n",
       "      <th>3919</th>\n",
       "      <td>18283.0</td>\n",
       "      <td>2011-12-06 12:02:00</td>\n",
       "      <td>2</td>\n",
       "      <td>16</td>\n",
       "      <td>2094.88</td>\n",
       "      <td>1</td>\n",
       "      <td>1</td>\n",
       "      <td>1</td>\n",
       "      <td>111</td>\n",
       "    </tr>\n",
       "    <tr>\n",
       "      <th>3920</th>\n",
       "      <td>18287.0</td>\n",
       "      <td>2011-10-28 09:29:00</td>\n",
       "      <td>41</td>\n",
       "      <td>3</td>\n",
       "      <td>1837.28</td>\n",
       "      <td>2</td>\n",
       "      <td>2</td>\n",
       "      <td>1</td>\n",
       "      <td>221</td>\n",
       "    </tr>\n",
       "  </tbody>\n",
       "</table>\n",
       "<p>3921 rows × 9 columns</p>\n",
       "</div>"
      ],
      "text/plain": [
       "      CustomerID         InvoiceDate  Recency  Frequency  Monetary  \\\n",
       "0        12346.0 2011-01-18 10:01:00      324          1  77183.60   \n",
       "1        12747.0 2011-12-07 14:34:00        1         11   4196.01   \n",
       "2        12748.0 2011-12-09 12:20:00        0        210  33719.73   \n",
       "3        12749.0 2011-12-06 09:56:00        2          5   4090.88   \n",
       "4        12820.0 2011-12-06 15:12:00        2          4    942.34   \n",
       "...          ...                 ...      ...        ...       ...   \n",
       "3916     18280.0 2011-03-07 09:52:00      276          1    180.60   \n",
       "3917     18281.0 2011-06-12 10:53:00      179          1     80.82   \n",
       "3918     18282.0 2011-12-02 11:43:00        6          2    178.05   \n",
       "3919     18283.0 2011-12-06 12:02:00        2         16   2094.88   \n",
       "3920     18287.0 2011-10-28 09:29:00       41          3   1837.28   \n",
       "\n",
       "      Recency_quartile  Frequency_quartile  Monetary_quartile RFM_Score  \n",
       "0                    4                   4                  1       441  \n",
       "1                    1                   1                  1       111  \n",
       "2                    1                   1                  1       111  \n",
       "3                    1                   2                  1       121  \n",
       "4                    1                   2                  2       122  \n",
       "...                ...                 ...                ...       ...  \n",
       "3916                 4                   4                  4       444  \n",
       "3917                 4                   4                  4       444  \n",
       "3918                 1                   3                  4       134  \n",
       "3919                 1                   1                  1       111  \n",
       "3920                 2                   2                  1       221  \n",
       "\n",
       "[3921 rows x 9 columns]"
      ]
     },
     "execution_count": 37,
     "metadata": {},
     "output_type": "execute_result"
    }
   ],
   "source": [
    "segmented_RFM"
   ]
  },
  {
   "cell_type": "code",
   "execution_count": 38,
   "id": "70a8e446",
   "metadata": {},
   "outputs": [
    {
     "data": {
      "text/plain": [
       "423"
      ]
     },
     "execution_count": 38,
     "metadata": {},
     "output_type": "execute_result"
    }
   ],
   "source": [
    "\n",
    "segmented_RFM[segmented_RFM['RFM_Score']==\"111\"].shape[0]"
   ]
  },
  {
   "cell_type": "code",
   "execution_count": 39,
   "id": "af1ea201",
   "metadata": {},
   "outputs": [
    {
     "name": "stdout",
     "output_type": "stream",
     "text": [
      "Best Customer:  423\n"
     ]
    }
   ],
   "source": [
    "print('Best Customer: ',segmented_RFM[segmented_RFM['RFM_Score']==\"111\"].shape[0])"
   ]
  },
  {
   "cell_type": "code",
   "execution_count": 40,
   "id": "06a9fc5c",
   "metadata": {},
   "outputs": [
    {
     "name": "stdout",
     "output_type": "stream",
     "text": [
      "Loyal/frequent Customer:  791\n"
     ]
    }
   ],
   "source": [
    "#f-quartile indicates he has purchase more number of times, 4 indicates low number of time \n",
    "print('Loyal/frequent Customer: ',segmented_RFM[segmented_RFM['Frequency_quartile']==1].shape[0])"
   ]
  },
  {
   "cell_type": "code",
   "execution_count": 41,
   "id": "ed544ca2",
   "metadata": {},
   "outputs": [
    {
     "name": "stdout",
     "output_type": "stream",
     "text": [
      "big spenders Customer:  980\n"
     ]
    }
   ],
   "source": [
    "print('big spenders Customer: ',segmented_RFM[segmented_RFM['Monetary_quartile']==1].shape[0])"
   ]
  },
  {
   "cell_type": "code",
   "execution_count": 42,
   "id": "4d824867",
   "metadata": {},
   "outputs": [
    {
     "name": "stdout",
     "output_type": "stream",
     "text": [
      "Almost lost customers:  31\n"
     ]
    }
   ],
   "source": [
    "print('Almost lost customers: ',segmented_RFM[segmented_RFM['RFM_Score']==\"134\"].shape[0])"
   ]
  },
  {
   "cell_type": "code",
   "execution_count": 43,
   "id": "a29e30b8",
   "metadata": {},
   "outputs": [
    {
     "name": "stdout",
     "output_type": "stream",
     "text": [
      "lost customers:  35\n"
     ]
    }
   ],
   "source": [
    "print('lost customers: ',segmented_RFM[segmented_RFM['RFM_Score']==\"334\"].shape[0])"
   ]
  },
  {
   "cell_type": "code",
   "execution_count": 44,
   "id": "a6714b87",
   "metadata": {},
   "outputs": [
    {
     "name": "stdout",
     "output_type": "stream",
     "text": [
      "bad customers:  396\n"
     ]
    }
   ],
   "source": [
    "print('bad customers: ',segmented_RFM[segmented_RFM['RFM_Score']==\"444\"].shape[0])"
   ]
  },
  {
   "cell_type": "code",
   "execution_count": 45,
   "id": "9ea8b3e0",
   "metadata": {},
   "outputs": [],
   "source": [
    "Label=[0]*len(segmented_RFM)\n",
    "\n",
    "\n",
    "for i in range(0,len(segmented_RFM)):\n",
    "    \n",
    "    if segmented_RFM['RFM_Score'][i]=='111':\n",
    "        Label[i]='Best Customer'\n",
    "        \n",
    "    elif segmented_RFM['RFM_Score'][i]=='134':\n",
    "        Label[i]='Almost Lost Customer'\n",
    "        \n",
    "    elif segmented_RFM['RFM_Score'][i]=='344':\n",
    "        Label[i]='Lost Customer'   \n",
    "        \n",
    "    elif segmented_RFM['RFM_Score'][i]=='444':\n",
    "        Label[i]='bad-lost Customer'\n",
    "        \n",
    "    elif segmented_RFM['Frequency_quartile'][i]==1:\n",
    "        Label[i]='Loyal Customer'\n",
    "        \n",
    "    elif segmented_RFM['Monetary_quartile'][i]==1:\n",
    "        Label[i]='Big spenders Customer'\n",
    "        \n",
    "    else:\n",
    "        Label[i]=\"Others\""
   ]
  },
  {
   "cell_type": "code",
   "execution_count": 46,
   "id": "e868fed1",
   "metadata": {},
   "outputs": [],
   "source": [
    "segmented_RFM[\"category\"]=Label"
   ]
  },
  {
   "cell_type": "code",
   "execution_count": 47,
   "id": "6e0970f0",
   "metadata": {},
   "outputs": [
    {
     "data": {
      "text/plain": [
       "Others                   2203\n",
       "Best Customer             423\n",
       "bad-lost Customer         396\n",
       "Loyal Customer            368\n",
       "Big spenders Customer     313\n",
       "Lost Customer             187\n",
       "Almost Lost Customer       31\n",
       "Name: category, dtype: int64"
      ]
     },
     "execution_count": 47,
     "metadata": {},
     "output_type": "execute_result"
    }
   ],
   "source": [
    "segmented_RFM.category.value_counts()"
   ]
  },
  {
   "cell_type": "code",
   "execution_count": 48,
   "id": "841b2474",
   "metadata": {},
   "outputs": [],
   "source": [
    "import seaborn as sns "
   ]
  },
  {
   "cell_type": "code",
   "execution_count": 49,
   "id": "b800c8ef",
   "metadata": {},
   "outputs": [],
   "source": [
    "\n",
    "Cust_df=segmented_RFM.groupby('category')['CustomerID'].nunique().sort_values(ascending=False).reset_index()"
   ]
  },
  {
   "cell_type": "code",
   "execution_count": 50,
   "id": "835b0e32",
   "metadata": {},
   "outputs": [
    {
     "data": {
      "image/png": "[encoded data removed]",
      "text/plain": [
       "<Figure size 864x576 with 1 Axes>"
      ]
     },
     "metadata": {
      "needs_background": "light"
     },
     "output_type": "display_data"
    }
   ],
   "source": [
    "plt.figure(figsize=(12,8))\n",
    "sns.barplot(data=Cust_df.drop([0]),x='category',y='CustomerID',palette='rocket')\n",
    "plt.savefig(\"Customer Segments via RFM.png\")\n"
   ]
  },
  {
   "cell_type": "code",
   "execution_count": 51,
   "id": "1c5f0bf9",
   "metadata": {},
   "outputs": [],
   "source": [
    "#Scaling \n",
    "RFM_table = segmented_RFM[['Recency', 'Frequency', 'Monetary']]\n",
    "\n",
    "#adding 1 to avoid 0 whose log value can lead to infinity\n",
    "RFM_log_table = np.log(RFM_table+1)\n"
   ]
  },
  {
   "cell_type": "code",
   "execution_count": 52,
   "id": "f69d5ce7",
   "metadata": {},
   "outputs": [],
   "source": [
    "import feature_engine\n",
    "from feature_engine.outliers import Winsorizer\n",
    "\n"
   ]
  },
  {
   "cell_type": "code",
   "execution_count": 53,
   "id": "d3758f3d",
   "metadata": {},
   "outputs": [],
   "source": [
    "windsoriser = Winsorizer(tail='both', # cap left, right or both tails\n",
    "                          fold=2,\n",
    "                           variables=[ 'Recency', 'Frequency', 'Monetary']\n",
    "                        )\n",
    "\n",
    "windsoriser.fit(RFM_log_table)\n",
    "\n",
    "RFM_log_table = windsoriser.transform(RFM_log_table)"
   ]
  },
  {
   "cell_type": "code",
   "execution_count": 54,
   "id": "f8ceedf4",
   "metadata": {},
   "outputs": [],
   "source": [
    "#Developing preprocessing with StandardScaler\n",
    "\n",
    "from sklearn.preprocessing import StandardScaler\n",
    "\n",
    "scaler = StandardScaler()\n",
    "\n",
    "scaler.fit(RFM_log_table)\n",
    "\n",
    "RFM_Table_New_scaled = scaler.transform(RFM_log_table)\n"
   ]
  },
  {
   "cell_type": "code",
   "execution_count": 55,
   "id": "1e291b61",
   "metadata": {},
   "outputs": [
    {
     "name": "stderr",
     "output_type": "stream",
     "text": [
      "C:\\Users\\SHRUTI\\anaconda3\\lib\\site-packages\\seaborn\\distributions.py:2557: FutureWarning: `distplot` is a deprecated function and will be removed in a future version. Please adapt your code to use either `displot` (a figure-level function with similar flexibility) or `histplot` (an axes-level function for histograms).\n",
      "  warnings.warn(msg, FutureWarning)\n"
     ]
    },
    {
     "data": {
      "text/plain": [
       "<AxesSubplot:ylabel='Density'>"
      ]
     },
     "execution_count": 55,
     "metadata": {},
     "output_type": "execute_result"
    },
    {
     "data": {
      "image/png": "[encoded data removed]",
      "text/plain": [
       "<Figure size 432x288 with 1 Axes>"
      ]
     },
     "metadata": {
      "needs_background": "light"
     },
     "output_type": "display_data"
    }
   ],
   "source": [
    "#Analyze Recency distribution\n",
    "sns.distplot(RFM_Table_New_scaled[:,0])"
   ]
  },
  {
   "cell_type": "code",
   "execution_count": 56,
   "id": "16e4d279",
   "metadata": {},
   "outputs": [
    {
     "name": "stderr",
     "output_type": "stream",
     "text": [
      "C:\\Users\\SHRUTI\\anaconda3\\lib\\site-packages\\seaborn\\distributions.py:2557: FutureWarning: `distplot` is a deprecated function and will be removed in a future version. Please adapt your code to use either `displot` (a figure-level function with similar flexibility) or `histplot` (an axes-level function for histograms).\n",
      "  warnings.warn(msg, FutureWarning)\n"
     ]
    },
    {
     "data": {
      "text/plain": [
       "<AxesSubplot:ylabel='Density'>"
      ]
     },
     "execution_count": 56,
     "metadata": {},
     "output_type": "execute_result"
    },
    {
     "data": {
      "image/png": "[encoded data removed]",
      "text/plain": [
       "<Figure size 432x288 with 1 Axes>"
      ]
     },
     "metadata": {
      "needs_background": "light"
     },
     "output_type": "display_data"
    }
   ],
   "source": [
    "#Analyze Frequency distribution\n",
    "sns.distplot(RFM_Table_New_scaled[:,1])\n",
    "\n"
   ]
  },
  {
   "cell_type": "code",
   "execution_count": 57,
   "id": "6a54b0ff",
   "metadata": {},
   "outputs": [
    {
     "name": "stderr",
     "output_type": "stream",
     "text": [
      "C:\\Users\\SHRUTI\\anaconda3\\lib\\site-packages\\seaborn\\distributions.py:2557: FutureWarning: `distplot` is a deprecated function and will be removed in a future version. Please adapt your code to use either `displot` (a figure-level function with similar flexibility) or `histplot` (an axes-level function for histograms).\n",
      "  warnings.warn(msg, FutureWarning)\n"
     ]
    },
    {
     "data": {
      "text/plain": [
       "<AxesSubplot:ylabel='Density'>"
      ]
     },
     "execution_count": 57,
     "metadata": {},
     "output_type": "execute_result"
    },
    {
     "data": {
      "image/png": "[encoded data removed]",
      "text/plain": [
       "<Figure size 432x288 with 1 Axes>"
      ]
     },
     "metadata": {
      "needs_background": "light"
     },
     "output_type": "display_data"
    }
   ],
   "source": [
    "#Analyze Monetary distribution\n",
    "sns.distplot(RFM_Table_New_scaled[:,2])\n"
   ]
  },
  {
   "cell_type": "code",
   "execution_count": 58,
   "id": "cc20a48a",
   "metadata": {},
   "outputs": [],
   "source": [
    "from sklearn.cluster import KMeans\n",
    "\n",
    "range_of_clusters = 16\n",
    "\n",
    "X = np.asarray(RFM_Table_New_scaled)\n",
    "Sum_of_squared_distances = []\n",
    "K = range(1,range_of_clusters)\n",
    "for k in K:\n",
    "    km = KMeans(n_clusters=k)\n",
    "    km = km.fit(X)\n",
    "    Sum_of_squared_distances.append(km.inertia_)"
   ]
  },
  {
   "cell_type": "code",
   "execution_count": 59,
   "id": "4d2ed062",
   "metadata": {
    "scrolled": true
   },
   "outputs": [
    {
     "data": {
      "image/png": "[encoded data removed]",
      "text/plain": [
       "<Figure size 1008x432 with 1 Axes>"
      ]
     },
     "metadata": {
      "needs_background": "light"
     },
     "output_type": "display_data"
    }
   ],
   "source": [
    "plt.figure(figsize=(14,6))    \n",
    "plt.plot(range(1,range_of_clusters),Sum_of_squared_distances, linewidth=2, color=\"red\", marker =\"8\")\n",
    "plt.xlabel(\"K Value\")\n",
    "plt.xticks(np.arange(1,range_of_clusters,1))\n",
    "plt.ylabel(\"inertia\")\n",
    "plt.savefig(\"Elbow_plot.png\")\n",
    "plt.show()"
   ]
  },
  {
   "cell_type": "code",
   "execution_count": 60,
   "id": "dea12795",
   "metadata": {},
   "outputs": [],
   "source": [
    "def kmeans(normalised_df_rfm, clusters_number, original_df_rfm):\n",
    "   \n",
    "    kmeans = KMeans(n_clusters = clusters_number, random_state = 1)\n",
    "    kmeans.fit(normalised_df_rfm)\n",
    "\n",
    "    # Extract cluster labels\n",
    "    cluster_labels = kmeans.labels_\n",
    "       \n",
    "    # Create a cluster label column in original dataset\n",
    "    df_new = original_df_rfm.assign(Cluster = cluster_labels)\n",
    "       \n",
    "    return df_new"
   ]
  },
  {
   "cell_type": "code",
   "execution_count": 61,
   "id": "2a7409ca",
   "metadata": {},
   "outputs": [],
   "source": [
    "#plt.figure(figsize=(10, 10))\n",
    "\n",
    "#plt.subplot(3, 1, 1)\n",
    "df_rfm_k3 = kmeans(RFM_Table_New_scaled, 3, segmented_RFM)\n",
    "\n",
    "#plt.subplot(3, 1, 2)\n",
    "df_rfm_k4 = kmeans(RFM_Table_New_scaled, 4, segmented_RFM)\n",
    "\n",
    "#plt.subplot(3, 1, 3)\n",
    "df_rfm_k5 = kmeans(RFM_Table_New_scaled, 5, segmented_RFM)\n",
    "\n",
    "#plt.tight_layout()\n"
   ]
  },
  {
   "cell_type": "code",
   "execution_count": 62,
   "id": "73cdb05a",
   "metadata": {},
   "outputs": [
    {
     "data": {
      "text/html": [
       "<div>\n",
       "<style scoped>\n",
       "    .dataframe tbody tr th:only-of-type {\n",
       "        vertical-align: middle;\n",
       "    }\n",
       "\n",
       "    .dataframe tbody tr th {\n",
       "        vertical-align: top;\n",
       "    }\n",
       "\n",
       "    .dataframe thead th {\n",
       "        text-align: right;\n",
       "    }\n",
       "</style>\n",
       "<table border=\"1\" class=\"dataframe\">\n",
       "  <thead>\n",
       "    <tr style=\"text-align: right;\">\n",
       "      <th></th>\n",
       "      <th>CustomerID</th>\n",
       "      <th>InvoiceDate</th>\n",
       "      <th>Recency</th>\n",
       "      <th>Frequency</th>\n",
       "      <th>Monetary</th>\n",
       "      <th>Recency_quartile</th>\n",
       "      <th>Frequency_quartile</th>\n",
       "      <th>Monetary_quartile</th>\n",
       "      <th>RFM_Score</th>\n",
       "      <th>category</th>\n",
       "      <th>Cluster</th>\n",
       "    </tr>\n",
       "  </thead>\n",
       "  <tbody>\n",
       "    <tr>\n",
       "      <th>0</th>\n",
       "      <td>12346.0</td>\n",
       "      <td>2011-01-18 10:01:00</td>\n",
       "      <td>324</td>\n",
       "      <td>1</td>\n",
       "      <td>77183.60</td>\n",
       "      <td>4</td>\n",
       "      <td>4</td>\n",
       "      <td>1</td>\n",
       "      <td>441</td>\n",
       "      <td>Big spenders Customer</td>\n",
       "      <td>1</td>\n",
       "    </tr>\n",
       "    <tr>\n",
       "      <th>1</th>\n",
       "      <td>12747.0</td>\n",
       "      <td>2011-12-07 14:34:00</td>\n",
       "      <td>1</td>\n",
       "      <td>11</td>\n",
       "      <td>4196.01</td>\n",
       "      <td>1</td>\n",
       "      <td>1</td>\n",
       "      <td>1</td>\n",
       "      <td>111</td>\n",
       "      <td>Best Customer</td>\n",
       "      <td>0</td>\n",
       "    </tr>\n",
       "    <tr>\n",
       "      <th>2</th>\n",
       "      <td>12748.0</td>\n",
       "      <td>2011-12-09 12:20:00</td>\n",
       "      <td>0</td>\n",
       "      <td>210</td>\n",
       "      <td>33719.73</td>\n",
       "      <td>1</td>\n",
       "      <td>1</td>\n",
       "      <td>1</td>\n",
       "      <td>111</td>\n",
       "      <td>Best Customer</td>\n",
       "      <td>0</td>\n",
       "    </tr>\n",
       "    <tr>\n",
       "      <th>3</th>\n",
       "      <td>12749.0</td>\n",
       "      <td>2011-12-06 09:56:00</td>\n",
       "      <td>2</td>\n",
       "      <td>5</td>\n",
       "      <td>4090.88</td>\n",
       "      <td>1</td>\n",
       "      <td>2</td>\n",
       "      <td>1</td>\n",
       "      <td>121</td>\n",
       "      <td>Big spenders Customer</td>\n",
       "      <td>0</td>\n",
       "    </tr>\n",
       "    <tr>\n",
       "      <th>4</th>\n",
       "      <td>12820.0</td>\n",
       "      <td>2011-12-06 15:12:00</td>\n",
       "      <td>2</td>\n",
       "      <td>4</td>\n",
       "      <td>942.34</td>\n",
       "      <td>1</td>\n",
       "      <td>2</td>\n",
       "      <td>2</td>\n",
       "      <td>122</td>\n",
       "      <td>Others</td>\n",
       "      <td>0</td>\n",
       "    </tr>\n",
       "    <tr>\n",
       "      <th>...</th>\n",
       "      <td>...</td>\n",
       "      <td>...</td>\n",
       "      <td>...</td>\n",
       "      <td>...</td>\n",
       "      <td>...</td>\n",
       "      <td>...</td>\n",
       "      <td>...</td>\n",
       "      <td>...</td>\n",
       "      <td>...</td>\n",
       "      <td>...</td>\n",
       "      <td>...</td>\n",
       "    </tr>\n",
       "    <tr>\n",
       "      <th>3916</th>\n",
       "      <td>18280.0</td>\n",
       "      <td>2011-03-07 09:52:00</td>\n",
       "      <td>276</td>\n",
       "      <td>1</td>\n",
       "      <td>180.60</td>\n",
       "      <td>4</td>\n",
       "      <td>4</td>\n",
       "      <td>4</td>\n",
       "      <td>444</td>\n",
       "      <td>bad-lost Customer</td>\n",
       "      <td>2</td>\n",
       "    </tr>\n",
       "    <tr>\n",
       "      <th>3917</th>\n",
       "      <td>18281.0</td>\n",
       "      <td>2011-06-12 10:53:00</td>\n",
       "      <td>179</td>\n",
       "      <td>1</td>\n",
       "      <td>80.82</td>\n",
       "      <td>4</td>\n",
       "      <td>4</td>\n",
       "      <td>4</td>\n",
       "      <td>444</td>\n",
       "      <td>bad-lost Customer</td>\n",
       "      <td>2</td>\n",
       "    </tr>\n",
       "    <tr>\n",
       "      <th>3918</th>\n",
       "      <td>18282.0</td>\n",
       "      <td>2011-12-02 11:43:00</td>\n",
       "      <td>6</td>\n",
       "      <td>2</td>\n",
       "      <td>178.05</td>\n",
       "      <td>1</td>\n",
       "      <td>3</td>\n",
       "      <td>4</td>\n",
       "      <td>134</td>\n",
       "      <td>Almost Lost Customer</td>\n",
       "      <td>3</td>\n",
       "    </tr>\n",
       "    <tr>\n",
       "      <th>3919</th>\n",
       "      <td>18283.0</td>\n",
       "      <td>2011-12-06 12:02:00</td>\n",
       "      <td>2</td>\n",
       "      <td>16</td>\n",
       "      <td>2094.88</td>\n",
       "      <td>1</td>\n",
       "      <td>1</td>\n",
       "      <td>1</td>\n",
       "      <td>111</td>\n",
       "      <td>Best Customer</td>\n",
       "      <td>0</td>\n",
       "    </tr>\n",
       "    <tr>\n",
       "      <th>3920</th>\n",
       "      <td>18287.0</td>\n",
       "      <td>2011-10-28 09:29:00</td>\n",
       "      <td>41</td>\n",
       "      <td>3</td>\n",
       "      <td>1837.28</td>\n",
       "      <td>2</td>\n",
       "      <td>2</td>\n",
       "      <td>1</td>\n",
       "      <td>221</td>\n",
       "      <td>Big spenders Customer</td>\n",
       "      <td>1</td>\n",
       "    </tr>\n",
       "  </tbody>\n",
       "</table>\n",
       "<p>3921 rows × 11 columns</p>\n",
       "</div>"
      ],
      "text/plain": [
       "      CustomerID         InvoiceDate  Recency  Frequency  Monetary  \\\n",
       "0        12346.0 2011-01-18 10:01:00      324          1  77183.60   \n",
       "1        12747.0 2011-12-07 14:34:00        1         11   4196.01   \n",
       "2        12748.0 2011-12-09 12:20:00        0        210  33719.73   \n",
       "3        12749.0 2011-12-06 09:56:00        2          5   4090.88   \n",
       "4        12820.0 2011-12-06 15:12:00        2          4    942.34   \n",
       "...          ...                 ...      ...        ...       ...   \n",
       "3916     18280.0 2011-03-07 09:52:00      276          1    180.60   \n",
       "3917     18281.0 2011-06-12 10:53:00      179          1     80.82   \n",
       "3918     18282.0 2011-12-02 11:43:00        6          2    178.05   \n",
       "3919     18283.0 2011-12-06 12:02:00        2         16   2094.88   \n",
       "3920     18287.0 2011-10-28 09:29:00       41          3   1837.28   \n",
       "\n",
       "      Recency_quartile  Frequency_quartile  Monetary_quartile RFM_Score  \\\n",
       "0                    4                   4                  1       441   \n",
       "1                    1                   1                  1       111   \n",
       "2                    1                   1                  1       111   \n",
       "3                    1                   2                  1       121   \n",
       "4                    1                   2                  2       122   \n",
       "...                ...                 ...                ...       ...   \n",
       "3916                 4                   4                  4       444   \n",
       "3917                 4                   4                  4       444   \n",
       "3918                 1                   3                  4       134   \n",
       "3919                 1                   1                  1       111   \n",
       "3920                 2                   2                  1       221   \n",
       "\n",
       "                   category  Cluster  \n",
       "0     Big spenders Customer        1  \n",
       "1             Best Customer        0  \n",
       "2             Best Customer        0  \n",
       "3     Big spenders Customer        0  \n",
       "4                    Others        0  \n",
       "...                     ...      ...  \n",
       "3916      bad-lost Customer        2  \n",
       "3917      bad-lost Customer        2  \n",
       "3918   Almost Lost Customer        3  \n",
       "3919          Best Customer        0  \n",
       "3920  Big spenders Customer        1  \n",
       "\n",
       "[3921 rows x 11 columns]"
      ]
     },
     "execution_count": 62,
     "metadata": {},
     "output_type": "execute_result"
    }
   ],
   "source": [
    "df_rfm_k4"
   ]
  },
  {
   "cell_type": "code",
   "execution_count": 63,
   "id": "575c82ac",
   "metadata": {},
   "outputs": [
    {
     "data": {
      "text/html": [
       "<div>\n",
       "<style scoped>\n",
       "    .dataframe tbody tr th:only-of-type {\n",
       "        vertical-align: middle;\n",
       "    }\n",
       "\n",
       "    .dataframe tbody tr th {\n",
       "        vertical-align: top;\n",
       "    }\n",
       "\n",
       "    .dataframe thead th {\n",
       "        text-align: right;\n",
       "    }\n",
       "</style>\n",
       "<table border=\"1\" class=\"dataframe\">\n",
       "  <thead>\n",
       "    <tr style=\"text-align: right;\">\n",
       "      <th></th>\n",
       "      <th>Cluster</th>\n",
       "      <th>CustomerID</th>\n",
       "    </tr>\n",
       "  </thead>\n",
       "  <tbody>\n",
       "    <tr>\n",
       "      <th>0</th>\n",
       "      <td>2</td>\n",
       "      <td>1371</td>\n",
       "    </tr>\n",
       "    <tr>\n",
       "      <th>1</th>\n",
       "      <td>1</td>\n",
       "      <td>1056</td>\n",
       "    </tr>\n",
       "    <tr>\n",
       "      <th>2</th>\n",
       "      <td>0</td>\n",
       "      <td>766</td>\n",
       "    </tr>\n",
       "    <tr>\n",
       "      <th>3</th>\n",
       "      <td>3</td>\n",
       "      <td>728</td>\n",
       "    </tr>\n",
       "  </tbody>\n",
       "</table>\n",
       "</div>"
      ],
      "text/plain": [
       "   Cluster  CustomerID\n",
       "0        2        1371\n",
       "1        1        1056\n",
       "2        0         766\n",
       "3        3         728"
      ]
     },
     "execution_count": 63,
     "metadata": {},
     "output_type": "execute_result"
    }
   ],
   "source": [
    "customer_count=df_rfm_k4.groupby('Cluster')['CustomerID'].nunique().sort_values(ascending=False).reset_index()\n",
    "customer_count"
   ]
  },
  {
   "cell_type": "code",
   "execution_count": 64,
   "id": "71ca1767",
   "metadata": {},
   "outputs": [
    {
     "data": {
      "image/png": "[encoded data removed]",
      "text/plain": [
       "<Figure size 1008x432 with 1 Axes>"
      ]
     },
     "metadata": {
      "needs_background": "light"
     },
     "output_type": "display_data"
    }
   ],
   "source": [
    "plt.figure(figsize=(14,6))\n",
    "sns.barplot(data=customer_count, x=\"Cluster\", y=\"CustomerID\", palette = \"rocket\")\n",
    "plt.savefig(\"Clusters.png\")"
   ]
  },
  {
   "cell_type": "code",
   "execution_count": 65,
   "id": "c06b7ea0",
   "metadata": {},
   "outputs": [],
   "source": [
    "#Profiling our custers\n",
    "\n",
    "def cluster_profiling(df):\n",
    "\n",
    "    df_new = df.groupby(['Cluster']).agg({\n",
    "        'Recency': 'mean',\n",
    "        'Frequency': 'mean',\n",
    "        'Monetary': 'mean',\n",
    "        'CustomerID':'nunique'\n",
    "    }).round(0)\n",
    "   \n",
    "    return df_new"
   ]
  },
  {
   "cell_type": "code",
   "execution_count": 66,
   "id": "cc98865c",
   "metadata": {},
   "outputs": [
    {
     "data": {
      "text/html": [
       "<div>\n",
       "<style scoped>\n",
       "    .dataframe tbody tr th:only-of-type {\n",
       "        vertical-align: middle;\n",
       "    }\n",
       "\n",
       "    .dataframe tbody tr th {\n",
       "        vertical-align: top;\n",
       "    }\n",
       "\n",
       "    .dataframe thead th {\n",
       "        text-align: right;\n",
       "    }\n",
       "</style>\n",
       "<table border=\"1\" class=\"dataframe\">\n",
       "  <thead>\n",
       "    <tr style=\"text-align: right;\">\n",
       "      <th></th>\n",
       "      <th>Recency</th>\n",
       "      <th>Frequency</th>\n",
       "      <th>Monetary</th>\n",
       "      <th>CustomerID</th>\n",
       "    </tr>\n",
       "    <tr>\n",
       "      <th>Cluster</th>\n",
       "      <th></th>\n",
       "      <th></th>\n",
       "      <th></th>\n",
       "      <th></th>\n",
       "    </tr>\n",
       "  </thead>\n",
       "  <tbody>\n",
       "    <tr>\n",
       "      <th>0</th>\n",
       "      <td>11.0</td>\n",
       "      <td>12.0</td>\n",
       "      <td>6360.0</td>\n",
       "      <td>766</td>\n",
       "    </tr>\n",
       "    <tr>\n",
       "      <th>1</th>\n",
       "      <td>75.0</td>\n",
       "      <td>4.0</td>\n",
       "      <td>1583.0</td>\n",
       "      <td>1056</td>\n",
       "    </tr>\n",
       "    <tr>\n",
       "      <th>2</th>\n",
       "      <td>185.0</td>\n",
       "      <td>1.0</td>\n",
       "      <td>311.0</td>\n",
       "      <td>1371</td>\n",
       "    </tr>\n",
       "    <tr>\n",
       "      <th>3</th>\n",
       "      <td>19.0</td>\n",
       "      <td>2.0</td>\n",
       "      <td>466.0</td>\n",
       "      <td>728</td>\n",
       "    </tr>\n",
       "  </tbody>\n",
       "</table>\n",
       "</div>"
      ],
      "text/plain": [
       "         Recency  Frequency  Monetary  CustomerID\n",
       "Cluster                                          \n",
       "0           11.0       12.0    6360.0         766\n",
       "1           75.0        4.0    1583.0        1056\n",
       "2          185.0        1.0     311.0        1371\n",
       "3           19.0        2.0     466.0         728"
      ]
     },
     "execution_count": 66,
     "metadata": {},
     "output_type": "execute_result"
    }
   ],
   "source": [
    "cluster_profiling(df_rfm_k4)"
   ]
  },
  {
   "cell_type": "markdown",
   "id": "6284b6b9",
   "metadata": {},
   "source": [
    "# Final Interpretation\n",
    "\n",
    "## Cluster Interpretation\n",
    "\n",
    "### Cluster 0 : Represents the best customers who visit the store frequently and are big spenders\n",
    "\n",
    "### Cluster 1 : Represents customers who were good customers and used to visit the store frequently but have not visited recently\n",
    "   \n",
    "### Cluster 2 : Represents lost customers who visited the store long back and only a selective times\n",
    "   \n",
    "### Cluster 3 : Represents new customers who recently started visiting our store.\n",
    "   \n",
    "# Business Action\n",
    "\n",
    "### 1. Take feedback from customers from cluster 1 understand why they stopped visiting as they account for nearly 25% of the entire customer base\n",
    "\n",
    "### 2. Study the purchase pattern from customers falling in cluster 0 and try to implement the same startegy to cluster 3 for customer retention"
   ]
  },
  {
   "cell_type": "code",
   "execution_count": null,
   "id": "983324ca",
   "metadata": {},
   "outputs": [],
   "source": []
  }
 ],
 "metadata": {
  "kernelspec": {
   "display_name": "Python 3",
   "language": "python",
   "name": "python3"
  },
  "language_info": {
   "codemirror_mode": {
    "name": "ipython",
    "version": 3
   },
   "file_extension": ".py",
   "mimetype": "text/x-python",
   "name": "python",
   "nbconvert_exporter": "python",
   "pygments_lexer": "ipython3",
   "version": "3.8.8"
  }
 },
 "nbformat": 4,
 "nbformat_minor": 5
}
